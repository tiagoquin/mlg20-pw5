{
 "cells": [
  {
   "cell_type": "markdown",
   "metadata": {},
   "source": [
    "# MLG: Lab 5 (Part 2)\n",
    "\n",
    "## Exercise 3: Self-organized representation of a collection of images\n",
    "\n",
    "### Dataset information\n",
    "\n",
    "The Wang image database is a database of images grouped by class. In this dataset, we downloaded only the 1000 images. You can download them on this website: http://wang.ist.psu.edu/docs/home.shtml more precisely at this address: http://wang.ist.psu.edu/~jwang/test1.tar\n",
    "\n",
    "For each class we have 100 corresponding images:\n",
    "- 0-100: Africans\n",
    "- 100-200: Beaches\n",
    "- 200-300: Monuments\n",
    "- etc...\n",
    "\n",
    "All the images in this dataset are 250x166 pixels or 166x250 pixels."
   ]
  },
  {
   "cell_type": "code",
   "execution_count": null,
   "metadata": {},
   "outputs": [],
   "source": [
    "import numpy as np\n",
    "import matplotlib.pylab as pl\n",
    "import KohonenUtils\n",
    "import WangImageUtilities\n",
    "%matplotlib inline"
   ]
  },
  {
   "cell_type": "code",
   "execution_count": null,
   "metadata": {},
   "outputs": [],
   "source": [
    "extractor = WangImageUtilities.ImageFeatureExtractor('Wang_Data')\n",
    "# Here we load images from 300-399 and from 500-599\n",
    "extractor.load_images(list_indices=list(np.arange(300, 400)) + list(np.arange(500, 600)))"
   ]
  },
  {
   "cell_type": "markdown",
   "metadata": {},
   "source": [
    "### Dataset Visualization"
   ]
  },
  {
   "cell_type": "code",
   "execution_count": null,
   "metadata": {},
   "outputs": [],
   "source": [
    "pl.figure(figsize=(10, 20))\n",
    "pl.subplot(121)\n",
    "pl.imshow(extractor.images[2])\n",
    "pl.axis('off')\n",
    "pl.subplot(122)\n",
    "pl.imshow(extractor.images[101])\n",
    "_ = pl.axis('off')"
   ]
  },
  {
   "cell_type": "markdown",
   "metadata": {},
   "source": [
    "### Clustering with SOM"
   ]
  },
  {
   "cell_type": "code",
   "execution_count": null,
   "metadata": {},
   "outputs": [],
   "source": [
    "method = 1\n",
    "if method == 1:\n",
    "    histograms = extractor.extract_histogram()\n",
    "elif method == 2:\n",
    "    histograms = extractor.extract_hue_histogram()\n",
    "elif method == 3:\n",
    "    histograms = extractor.extract_color_histogram()\n",
    "else:\n",
    "    print('Implement your own method for extracting features if you like!')"
   ]
  },
  {
   "cell_type": "code",
   "execution_count": null,
   "metadata": {},
   "outputs": [],
   "source": [
    "kmap = KohonenUtils.KohonenMap(side_rows=8,\n",
    "                               side_cols=8,\n",
    "                               size_vector=histograms.shape[1])\n",
    "\n",
    "n_iter = 5\n",
    "learning_rate = KohonenUtils.ExponentialTimeseries(1, 0.05, n_iter*histograms.shape[0])\n",
    "neighborhood_size = KohonenUtils.ExponentialTimeseries(2./3 * kmap._map.shape[1], 1, n_iter*histograms.shape[0])\n",
    "\n",
    "names = []\n",
    "for index in extractor.image_indices:\n",
    "    names.append(str(index))\n",
    "\n",
    "kmap.train(histograms, names, n_iter, learning_rate, neighborhood_size)"
   ]
  },
  {
   "cell_type": "code",
   "execution_count": null,
   "metadata": {},
   "outputs": [],
   "source": [
    "kmap.plot_umatrix(plot_empty=True, plot_names=True)"
   ]
  },
  {
   "cell_type": "markdown",
   "metadata": {},
   "source": [
    "To simplify analysis, we can write the images to HTML. This is easier to see and analyze."
   ]
  },
  {
   "cell_type": "code",
   "execution_count": null,
   "metadata": {},
   "outputs": [],
   "source": [
    "# Writes a 'som.html' file\n",
    "# You can visualize the results and click on a neuron to see other images assigned to this neuron\n",
    "extractor.to_html('som.html', kmap)"
   ]
  },
  {
   "cell_type": "markdown",
   "metadata": {
    "collapsed": true
   },
   "source": [
    "<h3>REPORT (date of submission: 27.5 before 23:55)</h3>\n",
    "\n",
    "1. Explain the three different methods we provided for extracting features. What do you understand about them (input, output), how do they work ?</p>\n",
    "\n",
    "2. Try the SOM with several (minimum 3) different sets of images (always 100 images per class and at least two classes). You can change the size of the Self-Organizing Map as well as its parameters. \n",
    "<ul>\n",
    "<li> Note that we provided three methods for extracting features: for at least one of the test you do try with all three methods and compare the results. \n",
    "<li> Include for each experiment an U-Matrix (with images - print screen of html)) that you find interesting. Explain why you find it interesting (what are the input images, with which features you trained your Self-Organizing Map, with which parameters, and how it is reflected in the results)...\n",
    "</ul>\n",
    "</p>"
   ]
  }
 ],
 "metadata": {
  "kernelspec": {
   "display_name": "Python 3",
   "language": "python",
   "name": "python3"
  },
  "language_info": {
   "codemirror_mode": {
    "name": "ipython",
    "version": 3
   },
   "file_extension": ".py",
   "mimetype": "text/x-python",
   "name": "python",
   "nbconvert_exporter": "python",
   "pygments_lexer": "ipython3",
   "version": "3.4.1"
  }
 },
 "nbformat": 4,
 "nbformat_minor": 1
}
